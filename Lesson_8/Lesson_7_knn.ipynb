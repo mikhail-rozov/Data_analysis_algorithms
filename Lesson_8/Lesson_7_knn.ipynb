{
 "cells": [
  {
   "cell_type": "code",
   "execution_count": 1,
   "id": "3f25a1e1-e52f-45be-a2fa-cef7909f927c",
   "metadata": {},
   "outputs": [],
   "source": [
    "import numpy as np"
   ]
  },
  {
   "cell_type": "code",
   "execution_count": 2,
   "id": "f1ba546c-4b00-4a92-a850-2ebaa01a7e61",
   "metadata": {
    "colab": {},
    "colab_type": "code",
    "id": "MKipIKeGuf-P"
   },
   "outputs": [],
   "source": [
    "def l2_norm(x1, x2):\n",
    "    return np.sqrt(sum((x1 - x2)**2))"
   ]
  },
  {
   "cell_type": "code",
   "execution_count": 3,
   "id": "1f15d601-1bb3-4ec4-b02f-75311f261cd6",
   "metadata": {
    "colab": {},
    "colab_type": "code",
    "id": "LIKuDr9huf-V"
   },
   "outputs": [],
   "source": [
    "def knn(x_train, y_train, x_test, k, weighted=None):\n",
    "    \n",
    "    answers = []\n",
    "    for x in x_test:\n",
    "        test_distances = []\n",
    "            \n",
    "        for i in range(len(x_train)):\n",
    "            \n",
    "            # расчет расстояния от классифицируемого объекта до\n",
    "            # объекта обучающей выборки\n",
    "            distance = l2_norm(x, x_train[i])\n",
    "            \n",
    "            # Записываем в список значение расстояния и ответа на объекте обучающей выборки\n",
    "            test_distances.append((distance, y_train[i]))\n",
    "        \n",
    "        # отберем k ближайших соседей\n",
    "        k_neighbours = sorted(test_distances)[:k]\n",
    "                \n",
    "        # создаем словарь со всеми возможными классами\n",
    "        classes = {class_item: 0 for class_item in np.unique(y_train)}\n",
    "        \n",
    "        # Подсчитаем суммарный вес разных классов среди ближайших соседей\n",
    "        for idx, d in enumerate(k_neighbours):\n",
    "            if weighted == 'order':\n",
    "                weight = 1 / (idx + 1)\n",
    "            elif weighted == 'distance':\n",
    "                weight = 0.5**d[0]\n",
    "            else:\n",
    "                weight = 1\n",
    "            classes[d[1]] += weight\n",
    "            \n",
    "        # Записываем в список ответов наиболее весомый класс\n",
    "        answers.append(max(classes, key=classes.get))\n",
    "    return answers"
   ]
  }
 ],
 "metadata": {
  "kernelspec": {
   "display_name": "Python 3 (ipykernel)",
   "language": "python",
   "name": "python3"
  },
  "language_info": {
   "codemirror_mode": {
    "name": "ipython",
    "version": 3
   },
   "file_extension": ".py",
   "mimetype": "text/x-python",
   "name": "python",
   "nbconvert_exporter": "python",
   "pygments_lexer": "ipython3",
   "version": "3.9.7"
  }
 },
 "nbformat": 4,
 "nbformat_minor": 5
}
