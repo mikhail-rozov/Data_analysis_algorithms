{
 "cells": [
  {
   "cell_type": "markdown",
   "id": "ebac01e3-9cc9-4f30-8422-1613c5301266",
   "metadata": {},
   "source": [
    "## Практическое задание к уроку № 8 по теме \"Снижение размерности данных\"."
   ]
  },
  {
   "cell_type": "markdown",
   "id": "c2dcd5f0-1789-494d-9351-ae2302f16ffa",
   "metadata": {},
   "source": [
    "#### Задание 1.  \n",
    "*Можно ли отобрать наиболее значимые признаки с помощью PCA? Ответ объясните.*"
   ]
  },
  {
   "cell_type": "markdown",
   "id": "c0c03d53-a778-49d6-a02b-cf4697c97804",
   "metadata": {},
   "source": [
    "Думаю, что нельзя. Метод PCA никак не учитывает целевую переменную и влияние признаков на неё.  \n",
    "Он стремится сократить размерность, не оказывая сильного влияния на дисперсию исходных данных.  \n",
    "Он как бы сжимает данные в данные меньшей размерности и не отбирает признаки, а преобразовывает их."
   ]
  },
  {
   "cell_type": "markdown",
   "id": "5eb3c592-8e7a-4615-8b01-348f1ba0cfad",
   "metadata": {},
   "source": [
    "#### Задание 2.  \n",
    "*Написать свою реализацию метода главных компонент с помощью сингулярного разложения с использованием функции numpy.linalg.svd().  \n",
    "Применить к данным на уроке и сравнить ответы.*"
   ]
  },
  {
   "cell_type": "code",
   "execution_count": 1,
   "id": "dc0fb83f-2a41-47dc-b071-a9b896c8ed61",
   "metadata": {},
   "outputs": [],
   "source": [
    "%matplotlib inline\n",
    "\n",
    "import matplotlib.pyplot as plt\n",
    "import numpy as np\n",
    "from sklearn.datasets import load_iris\n",
    "from sklearn.model_selection import train_test_split"
   ]
  },
  {
   "cell_type": "markdown",
   "id": "fab7d4c5-5f81-4654-86fd-2a9a2080f3ad",
   "metadata": {},
   "source": [
    "Возьмём данные из урока:"
   ]
  },
  {
   "cell_type": "code",
   "execution_count": 2,
   "id": "ac6c0752-4d71-46f4-9ae5-0c92d453d9a0",
   "metadata": {},
   "outputs": [
    {
     "data": {
      "text/plain": [
       "(150, 4)"
      ]
     },
     "execution_count": 2,
     "metadata": {},
     "output_type": "execute_result"
    }
   ],
   "source": [
    "iris = load_iris()\n",
    "X = iris.data\n",
    "X.shape"
   ]
  },
  {
   "cell_type": "markdown",
   "id": "81471bb0-1500-4132-af94-1963de3c018a",
   "metadata": {},
   "source": [
    "Стандартизируем признаки:"
   ]
  },
  {
   "cell_type": "code",
   "execution_count": 3,
   "id": "3c9d3b65-0530-46bd-9384-3f100d895476",
   "metadata": {},
   "outputs": [],
   "source": [
    "class StandardScaler:\n",
    "    \n",
    "    def __init__(self):\n",
    "        self.mean = None\n",
    "        self.std = None\n",
    "    \n",
    "    def fit(self, X):\n",
    "        self.mean = X.mean(axis=0)\n",
    "        self.std = X.std(axis=0)\n",
    "    \n",
    "    def transform(self, X):\n",
    "        return (X - self.mean) / self.std\n",
    "    \n",
    "    def fit_transform(self, X):\n",
    "        self.fit(X)\n",
    "        return self.transform(X)"
   ]
  },
  {
   "cell_type": "code",
   "execution_count": 4,
   "id": "010e9154-9095-4532-b8c4-fb01fb88f082",
   "metadata": {},
   "outputs": [],
   "source": [
    "scaler = StandardScaler()\n",
    "X = scaler.fit_transform(X)"
   ]
  },
  {
   "cell_type": "markdown",
   "id": "4e919df0-c361-488e-b307-754ff2ad22e0",
   "metadata": {},
   "source": [
    "Матрица весов, полученная на уроке, которую нужно получить нам:"
   ]
  },
  {
   "cell_type": "markdown",
   "id": "a70820a3-326d-423c-ada0-906fedaafd30",
   "metadata": {},
   "source": [
    "[[ 0.52106591 -0.37741762]  \n",
    "[-0.26934744 -0.92329566]  \n",
    "[ 0.5804131  -0.02449161]  \n",
    "[ 0.56485654 -0.06694199]]"
   ]
  },
  {
   "cell_type": "markdown",
   "id": "1a915dd2-1783-46a9-80c1-2a7446cb92a6",
   "metadata": {},
   "source": [
    "Разложим матрицу:"
   ]
  },
  {
   "cell_type": "code",
   "execution_count": 5,
   "id": "d8c38ad5-228d-4714-ae1a-d5a98fedbdb0",
   "metadata": {},
   "outputs": [],
   "source": [
    "U, s, W = np.linalg.svd(X)"
   ]
  },
  {
   "cell_type": "markdown",
   "id": "e6544a2b-9a71-4733-b133-7da5d0ced439",
   "metadata": {},
   "source": [
    "Матрица V:"
   ]
  },
  {
   "cell_type": "code",
   "execution_count": 6,
   "id": "052aec65-b1b1-4c43-9616-a5c39355da19",
   "metadata": {},
   "outputs": [
    {
     "data": {
      "text/plain": [
       "array([[ 0.52106591, -0.37741762,  0.71956635,  0.26128628],\n",
       "       [-0.26934744, -0.92329566, -0.24438178, -0.12350962],\n",
       "       [ 0.5804131 , -0.02449161, -0.14212637, -0.80144925],\n",
       "       [ 0.56485654, -0.06694199, -0.63427274,  0.52359713]])"
      ]
     },
     "execution_count": 6,
     "metadata": {},
     "output_type": "execute_result"
    }
   ],
   "source": [
    "V = W.T\n",
    "V"
   ]
  },
  {
   "cell_type": "markdown",
   "id": "d8eb62fb-897a-46f1-87e1-68fae25d69f4",
   "metadata": {},
   "source": [
    "Сингулярные числа матрицы X:"
   ]
  },
  {
   "cell_type": "code",
   "execution_count": 7,
   "id": "8286aab0-c11c-4c2f-b3d8-fcde04f42d49",
   "metadata": {},
   "outputs": [
    {
     "data": {
      "text/plain": [
       "array([20.92306556, 11.7091661 ,  4.69185798,  1.76273239])"
      ]
     },
     "execution_count": 7,
     "metadata": {},
     "output_type": "execute_result"
    }
   ],
   "source": [
    "s"
   ]
  },
  {
   "cell_type": "markdown",
   "id": "111b53f4-2456-4fe8-8b05-73f68713b35b",
   "metadata": {},
   "source": [
    "Сформируем новую матрицу весов W из столбцов матрицы V, соответствующих двум наибольшим сингулярным числам:"
   ]
  },
  {
   "cell_type": "code",
   "execution_count": 8,
   "id": "618e67e1-66f8-4701-bbe0-44ac105fddd1",
   "metadata": {},
   "outputs": [
    {
     "data": {
      "text/plain": [
       "array([[ 0.52106591, -0.37741762],\n",
       "       [-0.26934744, -0.92329566],\n",
       "       [ 0.5804131 , -0.02449161],\n",
       "       [ 0.56485654, -0.06694199]])"
      ]
     },
     "execution_count": 8,
     "metadata": {},
     "output_type": "execute_result"
    }
   ],
   "source": [
    "W = V[:, :2]\n",
    "W"
   ]
  },
  {
   "cell_type": "markdown",
   "id": "b8334d85-e0bd-4642-b0d3-a610ca191b84",
   "metadata": {},
   "source": [
    "Эта матрица весов равна матрице с урока, где мы пользовались методом PCA."
   ]
  },
  {
   "cell_type": "markdown",
   "id": "8e1185f4-8746-4f30-97bc-dc4271e1cfa8",
   "metadata": {},
   "source": [
    "Итоговая матрица будет равна:"
   ]
  },
  {
   "cell_type": "code",
   "execution_count": 9,
   "id": "490a9f89-3712-4ca5-a75c-028943c55372",
   "metadata": {},
   "outputs": [
    {
     "data": {
      "text/plain": [
       "(150, 2)"
      ]
     },
     "execution_count": 9,
     "metadata": {},
     "output_type": "execute_result"
    }
   ],
   "source": [
    "Z = X @ W\n",
    "Z.shape"
   ]
  },
  {
   "cell_type": "markdown",
   "id": "3578e782-9c46-45ff-ba07-65be072beb53",
   "metadata": {},
   "source": [
    "#### Задание 3.  \n",
    "*Обучить любую модель классификации (из рассмотренных в курсе) на датасете IRIS до применения PCA и после него.  \n",
    "Сравнить качество классификации по отложенной выборке.*"
   ]
  },
  {
   "cell_type": "markdown",
   "id": "351a041f-579e-418c-bd05-b19fe2443c4c",
   "metadata": {},
   "source": [
    "Сделаем разбивку данных на выборки:"
   ]
  },
  {
   "cell_type": "code",
   "execution_count": 10,
   "id": "e9b3f915-f037-4bfe-8b4a-63f2107758b9",
   "metadata": {},
   "outputs": [],
   "source": [
    "X, y = load_iris(return_X_y=True)"
   ]
  },
  {
   "cell_type": "code",
   "execution_count": 11,
   "id": "ddd35c56-a194-436f-a73b-087f25769e53",
   "metadata": {},
   "outputs": [],
   "source": [
    "X_train, X_test, y_train, y_test = train_test_split(X, y, test_size=0.2, random_state=1)"
   ]
  },
  {
   "cell_type": "code",
   "execution_count": 12,
   "id": "7495ae35-d17c-4573-bc2a-556711dd7904",
   "metadata": {},
   "outputs": [
    {
     "data": {
      "text/plain": [
       "((120, 4), (30, 4))"
      ]
     },
     "execution_count": 12,
     "metadata": {},
     "output_type": "execute_result"
    }
   ],
   "source": [
    "X_train.shape, X_test.shape"
   ]
  },
  {
   "cell_type": "markdown",
   "id": "8ed78448-a367-4a35-995a-843ccaf75b94",
   "metadata": {},
   "source": [
    "Вместо PCA воспользуемся SVD-разложением, которое только что делали:"
   ]
  },
  {
   "cell_type": "code",
   "execution_count": 13,
   "id": "3bb2be50-eb84-41d6-87f4-bcd8ec993525",
   "metadata": {},
   "outputs": [],
   "source": [
    "def process(X):\n",
    "    U, s, W = np.linalg.svd(X)\n",
    "    W = W.T[:, :2]\n",
    "    return X @ W"
   ]
  },
  {
   "cell_type": "markdown",
   "id": "dac981bf-ef42-42c1-bd13-5cf154a0e2fe",
   "metadata": {},
   "source": [
    "В качестве модели классификации воспользуемся kNN с предыдущего урока:"
   ]
  },
  {
   "cell_type": "code",
   "execution_count": 14,
   "id": "19e91f9a-0d35-4640-94d5-2f48b684eadc",
   "metadata": {},
   "outputs": [],
   "source": [
    "def l2_norm(x1, x2):\n",
    "    return np.sqrt(sum((x1 - x2)**2))"
   ]
  },
  {
   "cell_type": "code",
   "execution_count": 15,
   "id": "96552e94-25a6-48fd-b961-13a5b7127434",
   "metadata": {},
   "outputs": [],
   "source": [
    "def knn(x_train, y_train, x_test, k, weighted=None):\n",
    "    \n",
    "    answers = []\n",
    "    for x in x_test:\n",
    "        test_distances = []\n",
    "            \n",
    "        for i in range(len(x_train)):\n",
    "            \n",
    "            # расчет расстояния от классифицируемого объекта до\n",
    "            # объекта обучающей выборки\n",
    "            distance = l2_norm(x, x_train[i])\n",
    "            \n",
    "            # Записываем в список значение расстояния и ответа на объекте обучающей выборки\n",
    "            test_distances.append((distance, y_train[i]))\n",
    "        \n",
    "        # отберем k ближайших соседей\n",
    "        k_neighbours = sorted(test_distances)[:k]\n",
    "                \n",
    "        # создаем словарь со всеми возможными классами\n",
    "        classes = {class_item: 0 for class_item in np.unique(y_train)}\n",
    "        \n",
    "        # Подсчитаем суммарный вес разных классов среди ближайших соседей\n",
    "        for idx, d in enumerate(k_neighbours):\n",
    "            if weighted == 'order':\n",
    "                weight = 1 / (idx + 1)\n",
    "            elif weighted == 'distance':\n",
    "                weight = 0.5**d[0]\n",
    "            else:\n",
    "                weight = 1\n",
    "            classes[d[1]] += weight\n",
    "            \n",
    "        # Записываем в список ответов наиболее весомый класс\n",
    "        answers.append(max(classes, key=classes.get))\n",
    "    return answers"
   ]
  },
  {
   "cell_type": "markdown",
   "id": "65dd96e0-9d35-46a9-ab4f-8a255f80fd80",
   "metadata": {},
   "source": [
    "Для оценки качества классификации будем использовать метрику accuracy:"
   ]
  },
  {
   "cell_type": "code",
   "execution_count": 16,
   "id": "a47dec51-3d6d-40e3-bad9-99a9b5c3e784",
   "metadata": {},
   "outputs": [],
   "source": [
    "def calc_accuracy(y, y_pred):\n",
    "    y = np.array(y)\n",
    "    y_pred = np.array(y_pred)\n",
    "    \n",
    "    return (y == y_pred).sum() / y.shape[0]"
   ]
  },
  {
   "cell_type": "markdown",
   "id": "e218d485-37cb-44a2-8dd3-703c4c62d2fe",
   "metadata": {},
   "source": [
    "В этой задаче будем использовать нормализацию вместо стандартизации, так как при стандартизации мы получаем некорректные признаки  \n",
    "после снижения размерности. Скорее всего, это связано с тем, что стандартизация не сохраняет расстояния, и когда  \n",
    "мы пытаемся снизить размерность тестовой выборки, которая была стандартизирована по обучающей выборке, получаем некорректную матрицу данных."
   ]
  },
  {
   "cell_type": "code",
   "execution_count": 17,
   "id": "95b77865-4511-4d9c-8995-85c93d5ac3f2",
   "metadata": {},
   "outputs": [],
   "source": [
    "class NormalScaler:\n",
    "    \n",
    "    def __init__(self):\n",
    "        self.min = None\n",
    "        self.max = None\n",
    "    \n",
    "    def fit(self, X):\n",
    "        self.min = X.min(axis=0)\n",
    "        self.max = X.max(axis=0)\n",
    "    \n",
    "    def transform(self, X):\n",
    "        return (X - self.min) / (self.max - self.min)\n",
    "    \n",
    "    def fit_transform(self, X):\n",
    "        self.fit(X)\n",
    "        return self.transform(X)"
   ]
  },
  {
   "cell_type": "markdown",
   "id": "6b3b5487-cd3d-4d8c-88f8-802a2e6acc6f",
   "metadata": {},
   "source": [
    "Нормализуем выборки:"
   ]
  },
  {
   "cell_type": "code",
   "execution_count": 18,
   "id": "6e7c0e14-5508-4ed5-92a1-0924928ebc75",
   "metadata": {},
   "outputs": [],
   "source": [
    "scaler = NormalScaler()\n",
    "X_train = scaler.fit_transform(X_train)\n",
    "X_test = scaler.transform(X_test)"
   ]
  },
  {
   "cell_type": "markdown",
   "id": "39bfb440-294d-4d93-bc93-f8ba00fd31a0",
   "metadata": {},
   "source": [
    "Сделаем выборки со сниженной размерностью:"
   ]
  },
  {
   "cell_type": "code",
   "execution_count": 19,
   "id": "92be2825-d6d3-44fe-baa3-346f57930d47",
   "metadata": {},
   "outputs": [],
   "source": [
    "X_train_processed = process(X_train)\n",
    "X_test_processed = process(X_test)"
   ]
  },
  {
   "cell_type": "code",
   "execution_count": 20,
   "id": "f93cca10-791d-4896-9099-9f7552d99304",
   "metadata": {},
   "outputs": [
    {
     "data": {
      "text/plain": [
       "((120, 2), (30, 2))"
      ]
     },
     "execution_count": 20,
     "metadata": {},
     "output_type": "execute_result"
    }
   ],
   "source": [
    "X_train_processed.shape, X_test_processed.shape"
   ]
  },
  {
   "cell_type": "markdown",
   "id": "85d15553-8557-487d-a22b-7a38a0d647fa",
   "metadata": {},
   "source": [
    "Сравним модели:"
   ]
  },
  {
   "cell_type": "code",
   "execution_count": 21,
   "id": "7e64a17c-0f2f-4eb9-b617-b1bed0e32f5d",
   "metadata": {},
   "outputs": [
    {
     "name": "stdout",
     "output_type": "stream",
     "text": [
      "Модель kNN, обученная на всех 4 признаках:\n",
      "Accuracy - 1.00\n",
      "\n",
      "Модель kNN, обученная на 2 признаках после снижения размерности:\n",
      "Accuracy - 0.90\n"
     ]
    }
   ],
   "source": [
    "y_pred = knn(X_train, y_train, X_test, k=3)\n",
    "y_pred_processed = knn(X_train_processed, y_train, X_test_processed, k=3)\n",
    "\n",
    "print(f'Модель kNN, обученная на всех 4 признаках:\\n'\n",
    "      f'Accuracy - {calc_accuracy(y_test, y_pred):.2f}\\n')\n",
    "print(f'Модель kNN, обученная на 2 признаках после снижения размерности:\\n'\n",
    "      f'Accuracy - {calc_accuracy(y_test, y_pred_processed):.2f}')"
   ]
  },
  {
   "cell_type": "markdown",
   "id": "55bca07b-9af3-4f95-b4f8-fe837f477d81",
   "metadata": {},
   "source": [
    "После снижения размерности с 4-х до 2-х признаков модель kNN снизила точность на тестовой выборке на 0,1.  \n",
    "Посмотрим как отреагирует дерево решений из урока № 4 на снижение размерности:"
   ]
  },
  {
   "cell_type": "code",
   "execution_count": 22,
   "id": "19027752-cfe2-411a-a7c2-64d87d7e09a0",
   "metadata": {},
   "outputs": [
    {
     "name": "stdout",
     "output_type": "stream",
     "text": [
      "importing Jupyter notebook from Lesson_4_mytree.ipynb\n"
     ]
    }
   ],
   "source": [
    "import import_ipynb\n",
    "from Lesson_4_mytree import DecisionTree"
   ]
  },
  {
   "cell_type": "code",
   "execution_count": 23,
   "id": "7b59315a-b743-45fe-a56e-e3c157cb89e4",
   "metadata": {},
   "outputs": [],
   "source": [
    "model = DecisionTree()\n",
    "model_processed = DecisionTree()\n",
    "\n",
    "model.fit(X_train, y_train)\n",
    "model_processed.fit(X_train_processed, y_train)"
   ]
  },
  {
   "cell_type": "code",
   "execution_count": 24,
   "id": "a80872a1-4fb4-4144-9878-a355ffa3a1c0",
   "metadata": {},
   "outputs": [
    {
     "name": "stdout",
     "output_type": "stream",
     "text": [
      "Модель дерева решений, обученная на всех 4 признаках:\n",
      "Accuracy - 0.97\n",
      "\n",
      "Модель дерева решений, обученная на 2 признаках после снижения размерности:\n",
      "Accuracy - 0.87\n"
     ]
    }
   ],
   "source": [
    "y_pred = model.predict(X_test)\n",
    "y_pred_processed = model_processed.predict(X_test_processed)\n",
    "\n",
    "print(f'Модель дерева решений, обученная на всех 4 признаках:\\n'\n",
    "      f'Accuracy - {calc_accuracy(y_test, y_pred):.2f}\\n')\n",
    "print(f'Модель дерева решений, обученная на 2 признаках после снижения размерности:\\n'\n",
    "      f'Accuracy - {calc_accuracy(y_test, y_pred_processed):.2f}')"
   ]
  },
  {
   "cell_type": "markdown",
   "id": "d10d3ec4-3988-47fa-9d5c-156196f0ffc8",
   "metadata": {},
   "source": [
    "Дерево решений также снизило точность на 0,1.  \n",
    "Снижение размерности данных привело к потере части информации, и такие простые модели как те, которые мы протестировали, показали существенное снижение точности.  \n",
    "Выбор более сложных моделей, либо подстройка гиперпараметров наших моделей может позволить сократить отставание."
   ]
  }
 ],
 "metadata": {
  "kernelspec": {
   "display_name": "Python 3 (ipykernel)",
   "language": "python",
   "name": "python3"
  },
  "language_info": {
   "codemirror_mode": {
    "name": "ipython",
    "version": 3
   },
   "file_extension": ".py",
   "mimetype": "text/x-python",
   "name": "python",
   "nbconvert_exporter": "python",
   "pygments_lexer": "ipython3",
   "version": "3.9.7"
  }
 },
 "nbformat": 4,
 "nbformat_minor": 5
}
