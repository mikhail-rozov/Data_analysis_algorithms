{
 "cells": [
  {
   "cell_type": "markdown",
   "id": "5eb59216-0616-4a6f-b3b0-9d427609771e",
   "metadata": {},
   "source": [
    "## Практическое задание к уроку № 1 по теме  \n",
    "## \"Алгоритм линейной регрессии. Градиентный спуск.\""
   ]
  },
  {
   "cell_type": "markdown",
   "id": "e8b8f87c-d641-480d-a84f-56074c16f0e2",
   "metadata": {},
   "source": [
    "#### Задание 1.  "
   ]
  },
  {
   "cell_type": "markdown",
   "id": "6ee2089c-1f7f-449b-9594-e35078de0d4d",
   "metadata": {},
   "source": [
    "*Дан код:*"
   ]
  },
  {
   "cell_type": "code",
   "execution_count": 1,
   "id": "3e63c7fd-52d0-42cb-8bb1-b22856dd39f0",
   "metadata": {},
   "outputs": [],
   "source": [
    "import numpy as np"
   ]
  },
  {
   "cell_type": "code",
   "execution_count": 2,
   "id": "ffdd1e08-0bca-45d1-b799-700970496ce8",
   "metadata": {},
   "outputs": [],
   "source": [
    "def calc_mse(y, y_pred):\n",
    "    return np.mean((y - y_pred)**2)"
   ]
  },
  {
   "cell_type": "code",
   "execution_count": 3,
   "id": "bc5b44de-6d36-4a76-be9e-b8c02a3a9844",
   "metadata": {},
   "outputs": [],
   "source": [
    "X = np.array([[1, 1, 1, 1, 1, 1, 1, 1, 1, 1],\n",
    "              [1, 1, 2, 1, 3, 0, 5, 10, 1, 2]]).T\n",
    "y = [45, 55, 50, 59, 65, 35, 75, 80, 50, 60]\n",
    "w_lstsq = np.dot(np.dot(np.linalg.inv(np.dot(X.T, X)), X.T), y)"
   ]
  },
  {
   "cell_type": "code",
   "execution_count": 4,
   "id": "e19dee1d-7889-417a-aaac-5a6588141594",
   "metadata": {},
   "outputs": [],
   "source": [
    "# n = X.shape[0]\n",
    "# eta = 1e-3\n",
    "# iterations = 1001\n",
    "# w = np.array([1, 0.5])\n",
    "\n",
    "# for i in range(iterations):\n",
    "#     y_pred = np.dot(w, X.T)\n",
    "#     err = calc_mse(y, y_pred)\n",
    "#     for j in range(w.shape[0]):\n",
    "#         w[j] -= eta * (1/n * 2 * np.sum(X[:,j] * (y_pred - y)))\n",
    "#     if i % 100 == 0:\n",
    "#         print(i, w, err) # МНК: array([47.23214286,  3.91071429]) 45.937499999999986"
   ]
  },
  {
   "cell_type": "markdown",
   "id": "8947c6e2-205d-4310-a543-a549895293ba",
   "metadata": {},
   "source": [
    "*Проведите небольшое исследование алгоритма градиентного спуска на данных из урока.  \n",
    "Оцените влияние значений скорости обучения (`eta`) и количества итераций на ошибку алгоритма.  \n",
    "Как связаны эти два гиперпараметра между собой? Подберите скорость обучения и количество итераций  \n",
    "до совпадения ответов алгоритма с результатами МНК. Как можно ускорить процесс вычисления весов?*  "
   ]
  },
  {
   "cell_type": "code",
   "execution_count": 5,
   "id": "76b10277-f37d-4546-a760-a119f562da7b",
   "metadata": {},
   "outputs": [],
   "source": [
    "from itertools import product"
   ]
  },
  {
   "cell_type": "markdown",
   "id": "ff7bf435-d37d-4913-a563-387df36de3c5",
   "metadata": {},
   "source": [
    "Модифицируем алгоритм:"
   ]
  },
  {
   "cell_type": "code",
   "execution_count": 6,
   "id": "b1830eda-fd8f-4397-b994-66e384a3b589",
   "metadata": {},
   "outputs": [
    {
     "name": "stdout",
     "output_type": "stream",
     "text": [
      "eta: 0.001, iterations: 100\n",
      "weights: [ 7.39082363 10.70887732], mse: 899.5990444359252\n",
      "\n",
      "eta: 0.001, iterations: 500\n",
      "weights: [21.01880845  8.75120433], mse: 415.355423398327\n",
      "\n",
      "eta: 0.001, iterations: 1000\n",
      "weights: [31.6502796   6.78802453], mse: 176.46806566379882\n",
      "\n",
      "eta: 0.001, iterations: 2000\n",
      "weights: [41.72642888  4.92738649], mse: 62.2342399245102\n",
      "\n",
      "eta: 0.001, iterations: 4000\n",
      "weights: [46.54475452  4.0376458 ], mse: 46.19152576288303\n",
      "\n",
      "eta: 0.003, iterations: 100\n",
      "weights: [14.96620143  9.86795836], mse: 605.6406683102937\n",
      "\n",
      "eta: 0.003, iterations: 500\n",
      "weights: [37.9849427   5.61828053], mse: 91.90955934014146\n",
      "\n",
      "eta: 0.003, iterations: 1000\n",
      "weights: [45.29306439  4.26877996], mse: 47.958955623914335\n",
      "\n",
      "eta: 0.003, iterations: 2000\n",
      "weights: [47.14687887  3.92645893], mse: 45.94140845142199\n",
      "\n",
      "eta: 0.003, iterations: 4000\n",
      "weights: [47.231978    3.91074473], mse: 45.93750001461119\n",
      "\n",
      "Веса совпадают с результатом МНК!\n",
      "\n",
      "eta: 0.005, iterations: 100\n",
      "weights: [21.04725202  8.74595374], mse: 414.5541707681394\n",
      "\n",
      "eta: 0.005, iterations: 500\n",
      "weights: [43.97712557  4.51177813], mse: 51.63363194423746\n",
      "\n",
      "eta: 0.005, iterations: 1000\n",
      "weights: [46.99188286  3.95508013], mse: 45.96853390140358\n",
      "\n",
      "eta: 0.005, iterations: 2000\n",
      "weights: [47.23083386  3.910956  ], mse: 45.937500921189624\n",
      "\n",
      "Веса совпадают с результатом МНК!\n",
      "\n",
      "eta: 0.005, iterations: 4000\n",
      "weights: [47.23214282  3.91071429], mse: 45.9375\n",
      "\n",
      "Веса совпадают с результатом МНК!\n",
      "\n"
     ]
    }
   ],
   "source": [
    "n = X.shape[0]\n",
    "eta = (0.001, 0.003, 0.005)\n",
    "iterations = (100, 500, 1000, 2000, 4000)\n",
    "errors = {i: [] for i in eta}\n",
    "\n",
    "for koef, count in product(eta, iterations):\n",
    "    w = np.array([1, 0.5])\n",
    "\n",
    "    for i in range(count):\n",
    "        w = w - koef * 2/n * (np.dot(X.T, (np.dot(X, w) - y)))\n",
    "    \n",
    "    y_pred = np.dot(X, w)\n",
    "    err = calc_mse(y, y_pred)\n",
    "    if not errors[koef]:\n",
    "        errors[koef] = [err]\n",
    "    else:\n",
    "        errors[koef].append(err)\n",
    "    print(f'eta: {koef}, iterations: {count}\\nweights: {w}, mse: {err}\\n')\n",
    "    if np.allclose(w, w_lstsq, atol=1e-03):\n",
    "        print('Веса совпадают с результатом МНК!\\n')"
   ]
  },
  {
   "cell_type": "code",
   "execution_count": 7,
   "id": "9bda3713-7b1c-4754-9e87-f1657631c954",
   "metadata": {},
   "outputs": [],
   "source": [
    "%matplotlib inline\n",
    "\n",
    "import matplotlib.pyplot as plt\n",
    "plt.rcParams.update({'font.size': 14})"
   ]
  },
  {
   "cell_type": "code",
   "execution_count": 8,
   "id": "d88b6877-fbfe-4061-b340-df4269db2aeb",
   "metadata": {},
   "outputs": [
    {
     "data": {
      "image/png": "[encoded data removed]",
      "text/plain": [
       "<Figure size 1152x288 with 3 Axes>"
      ]
     },
     "metadata": {
      "needs_background": "light"
     },
     "output_type": "display_data"
    }
   ],
   "source": [
    "fig, ax = plt.subplots(1, 3)\n",
    "ax1, ax2, ax3 = ax.flatten()\n",
    "fig.set_size_inches(16, 4)\n",
    "plt.subplots_adjust(wspace=0.3)\n",
    "\n",
    "ax1.plot(iterations, errors[eta[0]])\n",
    "ax2.plot(iterations, errors[eta[1]])\n",
    "ax3.plot(iterations, errors[eta[2]])\n",
    "\n",
    "ax1.set_title(f'eta={eta[0]}')\n",
    "ax1.set_xlabel('Iterations')\n",
    "ax1.set_ylabel('mse')\n",
    "\n",
    "ax2.set_title(f'eta={eta[1]}')\n",
    "ax2.set_xlabel('Iterations')\n",
    "ax2.set_ylabel('mse')\n",
    "\n",
    "ax3.set_title(f'eta={eta[2]}')\n",
    "ax3.set_xlabel('Iterations')\n",
    "ax3.set_ylabel('mse')\n",
    "\n",
    "plt.show()"
   ]
  },
  {
   "cell_type": "markdown",
   "id": "50b94275-1f6c-4f79-b692-f129781d8854",
   "metadata": {},
   "source": [
    "<u>Вывод:</u> Проведено исследование алгоритма на данных из урока. Результаты показывают, что при увеличении коэффициента `eta` количество требуемых итераций снижается. В первом случае нам не хватило и 2000 итераций: на графике виден дальнейший уклон вниз при увеличении количества итераций до 4000. Увеличение коэффициента `eta` до 0,003 и 0,005 в нашем случае позволяет сократить число требуемых итераций до 1000 для получения близких к искомым весовых коэффициентов.  \n",
    "При значениях eta и числа итераций соответственно 0,003 и 4000, а также 0,005 и 2000, весовые коэффициенты совпали с весами, полученными методом наименьших квадратов (сравнение проводилось с помощью функции `numpy.allclose()` с абсолютной погрешностью 1е-03)."
   ]
  },
  {
   "cell_type": "markdown",
   "id": "b8c644c1-0e4d-43c5-93a9-c4c75624f166",
   "metadata": {},
   "source": [
    "Однако, мы не можем без конца увеличивать шаг с целью снижения требуемого числа итераций, так как при больших значениях шага мы будем \"перескакивать\" через минимум функции, и веса начнут бесконтрольно расти. Проверим это, посчитаем весовые коэффициенты с шагом 0,07:"
   ]
  },
  {
   "cell_type": "code",
   "execution_count": 9,
   "id": "c2bc8e14-d70a-47a1-b6fa-5492de1c3b3e",
   "metadata": {},
   "outputs": [
    {
     "name": "stdout",
     "output_type": "stream",
     "text": [
      "eta: 0.07, iterations: 0\n",
      "weights: [ 8.714 24.3  ], mse: 3173.15\n",
      "\n",
      "eta: 0.07, iterations: 100\n",
      "weights: [ 90145.66877384 487925.52597244], mse: 3006560937495.454\n",
      "\n",
      "eta: 0.07, iterations: 200\n",
      "weights: [3.42406430e+09 1.85427696e+10], mse: 4.342292800653201e+21\n",
      "\n",
      "eta: 0.07, iterations: 300\n",
      "weights: [1.30126711e+14 7.04691687e+14], mse: 6.271453384410683e+30\n",
      "\n",
      "eta: 0.07, iterations: 400\n",
      "weights: [4.94528129e+18 2.67808092e+19], mse: 9.057686655059265e+39\n",
      "\n",
      "eta: 0.07, iterations: 500\n",
      "weights: [1.87938409e+23 1.01776671e+24], mse: 1.3081766300802775e+49\n",
      "\n",
      "eta: 0.07, iterations: 600\n",
      "weights: [7.14233298e+27 3.86787820e+28], mse: 1.8893633227335135e+58\n",
      "\n",
      "eta: 0.07, iterations: 700\n",
      "weights: [2.71434246e+32 1.46993231e+33], mse: 2.7287551873415993e+67\n",
      "\n",
      "eta: 0.07, iterations: 800\n",
      "weights: [1.0315474e+37 5.5862695e+37], mse: 3.9410656398636985e+76\n",
      "\n",
      "eta: 0.07, iterations: 900\n",
      "weights: [3.92024973e+41 2.12298258e+42], mse: 5.691972094002953e+85\n",
      "\n",
      "eta: 0.07, iterations: 1000\n",
      "weights: [1.48983537e+46 8.06809452e+46], mse: 8.220757855743037e+94\n",
      "\n"
     ]
    }
   ],
   "source": [
    "eta = 0.07\n",
    "iterations = 1000\n",
    "w = np.array([1, 0.5])\n",
    "\n",
    "for i in range(iterations + 1):\n",
    "    y_pred = np.dot(X, w)\n",
    "    err = calc_mse(y, y_pred)\n",
    "\n",
    "    w = w - eta * 2/n * (np.dot(X.T, (np.dot(X, w) - y)))\n",
    "    \n",
    "    if i % 100 == 0:\n",
    "        print(f'eta: {eta}, iterations: {i}\\nweights: {w}, mse: {err}\\n')"
   ]
  },
  {
   "cell_type": "markdown",
   "id": "3e486342-462b-43d4-a0e4-61897bb5a56a",
   "metadata": {},
   "source": [
    "Действительно, с увеличением числа итераций, ошибка стала расти."
   ]
  },
  {
   "cell_type": "markdown",
   "id": "d1cd1917-562f-435a-8380-be101ae9b8f5",
   "metadata": {},
   "source": [
    "Ускорить процесс вычисления весов можно при помощи \"плавающего\" значения шага. Реализуем это:"
   ]
  },
  {
   "cell_type": "code",
   "execution_count": 10,
   "id": "b9a660cf-618b-4c35-a681-d0ac59ebb566",
   "metadata": {},
   "outputs": [
    {
     "name": "stdout",
     "output_type": "stream",
     "text": [
      "eta: 0.02, iterations: 100\n",
      "weights: [44.09075307  4.49079594], mse: 51.47062381138287\n",
      "\n",
      "eta: 0.01, iterations: 200\n",
      "weights: [46.49312513  4.04717956], mse: 46.237320862342074\n",
      "\n",
      "eta: 0.006666666666666667, iterations: 300\n",
      "weights: [46.91471403  3.96932995], mse: 45.99242980682645\n",
      "\n",
      "eta: 0.005, iterations: 400\n",
      "weights: [47.05779316  3.94290929], mse: 45.954013660086346\n",
      "\n",
      "eta: 0.004, iterations: 500\n",
      "weights: [47.12258421  3.93094513], mse: 45.94400709037531\n",
      "\n",
      "eta: 0.0033333333333333335, iterations: 600\n",
      "weights: [47.15718423  3.92455597], mse: 45.940541812486586\n",
      "\n",
      "eta: 0.002857142857142857, iterations: 700\n",
      "weights: [47.17775706  3.92075704], mse: 45.9390996636288\n",
      "\n",
      "eta: 0.0025, iterations: 800\n",
      "weights: [47.19095203  3.91832049], mse: 45.938416928240585\n",
      "\n",
      "eta: 0.0022222222222222222, iterations: 900\n",
      "weights: [47.19990561  3.91666714], mse: 45.93806130479158\n",
      "\n",
      "eta: 0.002, iterations: 1000\n",
      "weights: [47.20625189  3.91549525], mse: 45.93786189136599\n",
      "\n"
     ]
    }
   ],
   "source": [
    "iterations = 1000\n",
    "w = np.array([1, 0.5])\n",
    "\n",
    "for i in range(1, iterations + 1):\n",
    "    eta = 2 / i # \"Плавающий\" коэффициент, зависящий от числа пройденных итераций\n",
    "    y_pred = np.dot(X, w)\n",
    "    err = calc_mse(y, y_pred)\n",
    "\n",
    "    w = w - eta * 2/n * (np.dot(X.T, (np.dot(X, w) - y)))\n",
    "    \n",
    "    if i % 100 == 0:\n",
    "        print(f'eta: {eta}, iterations: {i}\\nweights: {w}, mse: {err}\\n')"
   ]
  },
  {
   "cell_type": "markdown",
   "id": "42e76aa1-d0b7-48a3-aa34-1f97b9cfcab1",
   "metadata": {},
   "source": [
    "За 1000 итераций значения весов оказались ближе к эталонному значению, чем расчёт с предварительно заданным шагом 0,005 (максимум в нашем исследовании выше)."
   ]
  },
  {
   "cell_type": "markdown",
   "id": "abec04d5-7bb5-4436-93fa-04ce44c260ba",
   "metadata": {},
   "source": [
    "#### Задание 2*.\n",
    "*Дан код:*"
   ]
  },
  {
   "cell_type": "code",
   "execution_count": 11,
   "id": "6d2cbcfe-d48a-4409-a2d8-24b9fd2d2713",
   "metadata": {},
   "outputs": [
    {
     "name": "stdout",
     "output_type": "stream",
     "text": [
      "0 [1.4502 0.9502] 3173.15\n",
      "100 [11.6740207 11.1740207] 737.5884748924025\n",
      "200 [11.82000082 11.32000082] 737.0919281764903\n",
      "300 [11.82208519 11.32208519] 737.0918269437198\n",
      "400 [11.82211495 11.32211495] 737.0918269230813\n",
      "500 [11.82211538 11.32211538] 737.0918269230768\n",
      "600 [11.82211538 11.32211538] 737.0918269230768\n",
      "700 [11.82211538 11.32211538] 737.091826923077\n",
      "800 [11.82211538 11.32211538] 737.0918269230768\n",
      "900 [11.82211538 11.32211538] 737.0918269230768\n",
      "1000 [11.82211538 11.32211538] 737.0918269230768\n"
     ]
    }
   ],
   "source": [
    "eta = 0.001\n",
    "iterations = 1001\n",
    "w = np.array([1, 0.5])\n",
    "\n",
    "for i in range(iterations):\n",
    "    y_pred = np.dot(w, X.T)\n",
    "    err = calc_mse(y, y_pred)\n",
    "    w -= (eta * (1/n * 2 * np.sum(X.T * (y_pred - y)))) # ошибка!\n",
    "    if i % 100 == 0:\n",
    "        print(i, w, err) # [47.23214286  3.91071429] 45.937499999999986"
   ]
  },
  {
   "cell_type": "markdown",
   "id": "664c956c-4f02-4dca-9c3c-01960509571d",
   "metadata": {},
   "source": [
    "*В этом коде мы избавляемся от итераций по весам, но тут есть ошибка, исправьте ее.*"
   ]
  },
  {
   "cell_type": "markdown",
   "id": "058384a2-6fbd-47ee-a401-8612e033c2d6",
   "metadata": {},
   "source": [
    "Ошибка здесь в том, что мы перемножаем поэлементно столбцы Х на (у_pred - y), а нужно брать скалярное произведение. У нас должно получиться 2 числа, а мы еще и находим сумму чисел. В итоге, нужно заменить произведение матриц на скалярное и не высчитывать сумму получившейся пары значений."
   ]
  },
  {
   "cell_type": "code",
   "execution_count": 12,
   "id": "5aad9f5a-51c4-4eb8-b36b-645fc24dc93b",
   "metadata": {},
   "outputs": [
    {
     "name": "stdout",
     "output_type": "stream",
     "text": [
      "0 [1.1102 0.84  ] 3173.15\n",
      "100 [ 7.43515582 10.71754582] 899.5990444359252\n",
      "200 [11.44993589 10.49282195] 735.5540619653668\n",
      "300 [14.98921624  9.8634316 ] 606.0048772266812\n",
      "400 [18.17511588  9.27626113] 500.7989288428639\n",
      "500 [21.04606457  8.74617136] 415.355423398327\n",
      "600 [23.63334499  8.26841272] 345.9620646005472\n",
      "700 [25.96499229  7.83785632] 289.6039104863001\n",
      "800 [28.06626432  7.44984037] 243.83236130353217\n",
      "900 [29.95992301  7.10016181] 206.65877484533297\n",
      "1000 [31.66648131  6.78503276] 176.46806566379882\n"
     ]
    }
   ],
   "source": [
    "eta = 0.001\n",
    "iterations = 1001\n",
    "w = np.array([1, 0.5])\n",
    "\n",
    "for i in range(iterations):\n",
    "    y_pred = np.dot(w, X.T)\n",
    "    err = calc_mse(y, y_pred)\n",
    "    w -= eta * (1/n * 2 * (X.T @ (y_pred - y)))\n",
    "    if i % 100 == 0:\n",
    "        print(i, w, err) # [47.23214286  3.91071429] 45.937499999999986"
   ]
  },
  {
   "cell_type": "markdown",
   "id": "cf83b3c5-1542-4a8c-b9d0-0f911bb75d98",
   "metadata": {},
   "source": [
    "#### Задание 3.\n",
    "*Вместо того, чтобы задавать количество итераций, задайте условие остановки алгоритма - когда ошибка за итерацию начинает изменяться ниже определенного порога.*  \n",
    "*Сколько нужно сделать итераций, если установить допустимое отклонение mse в размере diff=10^-6, а значение eta=10^-2?*"
   ]
  },
  {
   "cell_type": "code",
   "execution_count": 13,
   "id": "71df3de7-c6c7-4c51-9b06-f7c6ba43c3eb",
   "metadata": {},
   "outputs": [
    {
     "name": "stdout",
     "output_type": "stream",
     "text": [
      "Требуемое число итераций: 810.\n"
     ]
    }
   ],
   "source": [
    "w = np.array([1, 0.5])\n",
    "diff = 1e-6\n",
    "eta = 1e-2\n",
    "err = np.inf\n",
    "iterations = 0\n",
    "new_err = 0\n",
    "\n",
    "while abs(err - new_err) > diff:\n",
    "    err = new_err\n",
    "    y_pred = np.dot(X, w)\n",
    "    new_err = calc_mse(y, y_pred)\n",
    "\n",
    "    w = w - eta * 2/n * (np.dot(X.T, (np.dot(X, w) - y)))\n",
    "    \n",
    "    # if iterations % 100 == 0:\n",
    "    #     print(f'eta: {eta}, iterations: {iterations}\\nweights: {w}, mse: {new_err}\\n')\n",
    "    iterations += 1\n",
    "else:\n",
    "    print(f'Требуемое число итераций: {iterations}.')"
   ]
  }
 ],
 "metadata": {
  "kernelspec": {
   "display_name": "Python 3 (ipykernel)",
   "language": "python",
   "name": "python3"
  },
  "language_info": {
   "codemirror_mode": {
    "name": "ipython",
    "version": 3
   },
   "file_extension": ".py",
   "mimetype": "text/x-python",
   "name": "python",
   "nbconvert_exporter": "python",
   "pygments_lexer": "ipython3",
   "version": "3.9.7"
  }
 },
 "nbformat": 4,
 "nbformat_minor": 5
}
