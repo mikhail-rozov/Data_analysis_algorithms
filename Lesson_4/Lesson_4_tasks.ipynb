{
 "cells": [
  {
   "cell_type": "markdown",
   "id": "f5d48469-6f49-4fd7-b9c5-da066bd03cb8",
   "metadata": {},
   "source": [
    "## Практическое задание к уроку № 4 по теме \"Деревья решений\"."
   ]
  },
  {
   "cell_type": "markdown",
   "id": "20d672d6-3a58-4714-ae9e-e26bc11e173c",
   "metadata": {},
   "source": [
    "#### Задание 1.  \n",
    "*В коде из методички реализуйте один или несколько критериев останова: минимальное количество объектов в листе (`min_leaf`),  \n",
    "максимальная глубина дерева, максимальное количество листьев и т.д. Добавьте эти критерии в параметры функции `build_tree`  \n",
    "и проверьте ее работоспособность с помощью визуализации дерева.* \n",
    "\n",
    "#### Задание 2*.  \n",
    "*Для задачи классификации обучите дерево решений с использованием критериев разбиения Джини и Энтропия.  \n",
    "Сравните качество классификации, сделайте выводы.*  \n",
    "\n",
    "#### Задание 3*.  \n",
    "*Реализуйте дерево для задачи регрессии. Возьмите за основу дерево, реализованное в методичке,  \n",
    "заменив механизм предсказания в листе на взятие среднего значения по выборке, а критерий Джини на дисперсию значений.  \n",
    "Проверьте точность предсказания дерева на одной из метрик задачи регрессии.*"
   ]
  },
  {
   "cell_type": "markdown",
   "id": "739cac97-ab1d-481e-8289-f2308dc0bc09",
   "metadata": {},
   "source": [
    "Перепишем код с урока в ООП-виде и внесём в него требуемые изменения для всех трёх заданий:"
   ]
  },
  {
   "cell_type": "code",
   "execution_count": 1,
   "id": "2145e7a9-1751-4dc3-9a73-c40490d11a3f",
   "metadata": {},
   "outputs": [],
   "source": [
    "%matplotlib inline\n",
    "\n",
    "from collections import Counter\n",
    "import matplotlib.pyplot as plt\n",
    "import numpy as np\n",
    "from sklearn import datasets, model_selection"
   ]
  },
  {
   "cell_type": "code",
   "execution_count": 2,
   "id": "13849e0f-4868-4367-b0b6-59442cd6908f",
   "metadata": {},
   "outputs": [],
   "source": [
    "class DecisionTree:\n",
    "    \n",
    "    def __init__(self, data, labels, criterion='gini', min_leaf=5, max_depth=3):\n",
    "        \n",
    "        self.tree = self.build_tree(data, labels, criterion, min_leaf, max_depth)\n",
    "        self.criterion = criterion\n",
    "    \n",
    "    class Node:\n",
    "        \n",
    "        def __init__(self, index, t, true_branch, false_branch):\n",
    "            \n",
    "            self.index = index  # индекс признака, по которому ведется сравнение с порогом в этом узле\n",
    "            self.t = t  # значение порога\n",
    "            self.true_branch = true_branch  # поддерево, удовлетворяющее условию в узле\n",
    "            self.false_branch = false_branch  # поддерево, не удовлетворяющее условию в узле\n",
    "    \n",
    "    class Leaf:\n",
    "        \n",
    "        def __init__(self, data, labels, criterion):\n",
    "            \n",
    "            self.data = data\n",
    "            self.labels = labels\n",
    "            self.criterion = criterion\n",
    "            self.prediction = self.predict()\n",
    "    \n",
    "        def predict(self):\n",
    "            \n",
    "            if self.criterion == 'regression':\n",
    "                return self.labels.mean()\n",
    "            \n",
    "            else:\n",
    "                classes = Counter(self.labels)\n",
    "                return max(classes, key=classes.get)\n",
    "            \n",
    "    # Расчет критерия информативности\n",
    "    def impurity_criterion(self, labels, criterion):\n",
    "        \n",
    "        if criterion == 'gini':\n",
    "            classes = Counter(labels)\n",
    "            impurity = 1\n",
    "            for label in classes:\n",
    "                p = classes[label] / len(labels)\n",
    "                impurity -= p ** 2\n",
    "                \n",
    "        elif criterion == 'entropy':\n",
    "            classes = Counter(labels)\n",
    "            impurity = 0\n",
    "            for label in classes:\n",
    "                p = classes[label] / len(labels)\n",
    "                impurity -= p * np.log2(p) if p != 0 else 0\n",
    "        \n",
    "        elif criterion == 'regression':\n",
    "            impurity = ((labels - labels.mean())**2).sum() / labels.shape[0]\n",
    "        \n",
    "        return impurity\n",
    "    \n",
    "    # Расчет качества\n",
    "    def quality(self, left_labels, right_labels, criterion, current_criterion):\n",
    "        \n",
    "        # доля выборки, ушедшая в левое поддерево\n",
    "        p = left_labels.shape[0] / (left_labels.shape[0] + right_labels.shape[0])\n",
    "        \n",
    "        return current_criterion - p * self.impurity_criterion(left_labels, criterion) - (1 - p) * self.impurity_criterion(right_labels, criterion)\n",
    "    \n",
    "    # Разбиение датасета в узле\n",
    "    def split(self, data, labels, index, t):\n",
    "        \n",
    "        left = np.where(data[:, index] <= t)\n",
    "        right = np.where(data[:, index] > t)\n",
    "\n",
    "        true_data = data[left]\n",
    "        false_data = data[right]\n",
    "        true_labels = labels[left]\n",
    "        false_labels = labels[right]\n",
    "        \n",
    "        return true_data, false_data, true_labels, false_labels\n",
    "    \n",
    "    # Нахождение наилучшего разбиения\n",
    "    def find_best_split(self, data, labels, criterion, min_leaf):\n",
    "        \n",
    "        current_criterion = self.impurity_criterion(labels, criterion)\n",
    "        \n",
    "        best_quality = 0\n",
    "        best_t = None\n",
    "        best_index = None\n",
    "    \n",
    "        n_features = data.shape[1]\n",
    "    \n",
    "        for index in range(n_features):\n",
    "            \n",
    "            # будем проверять только уникальные значения признака, исключая повторения\n",
    "            t_values = np.unique(data[:, index])\n",
    "\n",
    "            for t in t_values:\n",
    "                true_data, false_data, true_labels, false_labels = self.split(data, labels, index, t)\n",
    "                \n",
    "                #  пропускаем разбиения, в которых в узле остается менее min_leaf объектов\n",
    "                if len(true_data) < min_leaf or len(false_data) < min_leaf:\n",
    "                    continue\n",
    "                    \n",
    "                current_quality = self.quality(true_labels, false_labels, criterion, current_criterion)\n",
    "                \n",
    "                #  выбираем порог, на котором получается максимальный прирост качества\n",
    "                if current_quality > best_quality:\n",
    "                    best_quality, best_t, best_index = current_quality, t, index\n",
    "        \n",
    "        return best_quality, best_t, best_index\n",
    "    \n",
    "    # Построение дерева с помощью рекурсивной функции\n",
    "    def build_tree(self, data, labels, criterion, min_leaf, max_depth):\n",
    "        \n",
    "        quality, t, index = self.find_best_split(data, labels, criterion, min_leaf)\n",
    "    \n",
    "        #  Базовый случай - прекращаем рекурсию, когда нет прироста качества\n",
    "        #  или достигнут критерий останова\n",
    "\n",
    "        if (max_depth == 0) or (quality == 0):\n",
    "            return self.Leaf(data, labels, criterion)\n",
    "        \n",
    "        true_data, false_data, true_labels, false_labels = self.split(data, labels, index, t)\n",
    "        \n",
    "        # Рекурсивно строим два поддерева, обращая внимание на критерий останова\n",
    "        true_branch = self.build_tree(true_data, true_labels, criterion, min_leaf, max_depth=max_depth-1)\n",
    "        false_branch = self.build_tree(false_data, false_labels, criterion, min_leaf, max_depth=max_depth-1)\n",
    "        \n",
    "        # Возвращаем класс узла со всеми поддеревьями, то есть целого дерева\n",
    "        return self.Node(index, t, true_branch, false_branch)\n",
    "    \n",
    "    def predict_object(self, obj, node):\n",
    "\n",
    "        #  Останавливаем рекурсию, если достигли листа\n",
    "        if isinstance(node, self.Leaf):\n",
    "            answer = node.prediction\n",
    "            return answer\n",
    "\n",
    "        if obj[node.index] <= node.t:\n",
    "            return self.predict_object(obj, node.true_branch)\n",
    "        else:\n",
    "            return self.predict_object(obj, node.false_branch)\n",
    "    \n",
    "    def predict(self, data):\n",
    "        \n",
    "        if self.criterion == 'regression':\n",
    "            return [self.predict_object(obj, self.tree) for obj in data]\n",
    "        \n",
    "        else:\n",
    "            classes = []\n",
    "            for obj in data:\n",
    "                prediction = self.predict_object(obj, self.tree)\n",
    "                classes.append(prediction)\n",
    "            return classes"
   ]
  },
  {
   "cell_type": "markdown",
   "id": "84a2ba04-73b0-44f6-ab12-053503c1301d",
   "metadata": {},
   "source": [
    "Создадим датасет для проверки алгоритма:"
   ]
  },
  {
   "cell_type": "code",
   "execution_count": 3,
   "id": "cda5efcd-fd27-4a62-b98a-8e7cb9962b77",
   "metadata": {},
   "outputs": [],
   "source": [
    "classification_data, classification_labels = datasets.make_classification(n_samples=1000, n_features=2, n_informative=2, \n",
    "                                                      n_classes=2, n_redundant=0, \n",
    "                                                      n_clusters_per_class=1, random_state=29)"
   ]
  },
  {
   "cell_type": "markdown",
   "id": "18818a36-b94a-45af-bf4e-29acef9fa61d",
   "metadata": {},
   "source": [
    "Разобъём на обучающую и тестовую выборки:"
   ]
  },
  {
   "cell_type": "code",
   "execution_count": 4,
   "id": "674ad092-f7be-4dcc-b952-5171334f8c95",
   "metadata": {},
   "outputs": [],
   "source": [
    "train_data, test_data, train_labels, test_labels = model_selection.train_test_split(classification_data, \n",
    "                                                                                     classification_labels, \n",
    "                                                                                     test_size = 0.3,\n",
    "                                                                                     random_state = 1)"
   ]
  },
  {
   "cell_type": "markdown",
   "id": "a24bbaf4-a73f-4e93-b7c8-446e6bdb0c3a",
   "metadata": {},
   "source": [
    "Обучим дерево решений и сделаем предсказания на обеих выборках:"
   ]
  },
  {
   "cell_type": "code",
   "execution_count": 5,
   "id": "4eaced15-46a2-4b9e-93dc-d980f01a7d45",
   "metadata": {},
   "outputs": [],
   "source": [
    "model = DecisionTree(train_data, train_labels, criterion='gini', min_leaf=10, max_depth=4)"
   ]
  },
  {
   "cell_type": "code",
   "execution_count": 6,
   "id": "23cc6f9d-f029-48fd-a6c0-fe76cda55add",
   "metadata": {},
   "outputs": [],
   "source": [
    "train_answers = model.predict(train_data)"
   ]
  },
  {
   "cell_type": "code",
   "execution_count": 7,
   "id": "d0e77dba-6d23-4272-bedd-8eef5f507b1c",
   "metadata": {},
   "outputs": [],
   "source": [
    "answers = model.predict(test_data)"
   ]
  },
  {
   "cell_type": "code",
   "execution_count": 8,
   "id": "95fcaa2a-de59-4f90-8825-bb4cd36ed796",
   "metadata": {
    "tags": []
   },
   "outputs": [],
   "source": [
    "class ColorText:\n",
    "    RED = '\\033[1;31;48m'\n",
    "    CYAN = '\\033[1;36;48m'\n",
    "    END = '\\033[1;37;0m'"
   ]
  },
  {
   "cell_type": "code",
   "execution_count": 9,
   "id": "65fdd3c9-918b-48cc-aec0-f4f971172c32",
   "metadata": {},
   "outputs": [],
   "source": [
    "# Напечатаем ход нашего дерева\n",
    "def print_tree(node, spacing=\"\"):\n",
    "\n",
    "    # Если лист, то выводим его прогноз\n",
    "    if isinstance(node, DecisionTree.Leaf):\n",
    "        print(ColorText.CYAN + spacing + ' ЛИСТ' \n",
    "                  + ': прогноз = ' + str(node.prediction) \n",
    "                  + ', объектов = ' + str(len(node.labels)) \n",
    "                  + ColorText.END)\n",
    "        return\n",
    "\n",
    "    # Выведем значение индекса и порога на этом узле\n",
    "    print(ColorText.RED + spacing + ' УЗЕЛ'  \n",
    "              + ': индекс = ' + str(node.index) \n",
    "              + ', порог = ' + str(round(node.t, 2))\n",
    "              + ColorText.END)\n",
    "\n",
    "    # Рекурсионный вызов функции на положительном поддереве\n",
    "    print (spacing + '--> Левая ветка:')\n",
    "    print_tree(node.true_branch, spacing + \"   \")\n",
    "\n",
    "    # Рекурсионный вызов функции на отрицательном поддереве\n",
    "    print (spacing + '--> Правая ветка:')\n",
    "    print_tree(node.false_branch, spacing + \"   \")"
   ]
  },
  {
   "cell_type": "code",
   "execution_count": 10,
   "id": "6434b524-66d1-466f-af98-d583b3f7a12a",
   "metadata": {},
   "outputs": [
    {
     "name": "stdout",
     "output_type": "stream",
     "text": [
      "\u001b[1;31;48m УЗЕЛ: индекс = 1, порог = 0.07\u001b[1;37;0m\n",
      "--> Левая ветка:\n",
      "\u001b[1;31;48m    УЗЕЛ: индекс = 0, порог = 2.41\u001b[1;37;0m\n",
      "   --> Левая ветка:\n",
      "\u001b[1;31;48m       УЗЕЛ: индекс = 1, порог = -0.72\u001b[1;37;0m\n",
      "      --> Левая ветка:\n",
      "\u001b[1;31;48m          УЗЕЛ: индекс = 0, порог = 1.62\u001b[1;37;0m\n",
      "         --> Левая ветка:\n",
      "\u001b[1;36;48m             ЛИСТ: прогноз = 0, объектов = 187\u001b[1;37;0m\n",
      "         --> Правая ветка:\n",
      "\u001b[1;36;48m             ЛИСТ: прогноз = 0, объектов = 53\u001b[1;37;0m\n",
      "      --> Правая ветка:\n",
      "\u001b[1;31;48m          УЗЕЛ: индекс = 0, порог = 1.04\u001b[1;37;0m\n",
      "         --> Левая ветка:\n",
      "\u001b[1;36;48m             ЛИСТ: прогноз = 0, объектов = 77\u001b[1;37;0m\n",
      "         --> Правая ветка:\n",
      "\u001b[1;36;48m             ЛИСТ: прогноз = 1, объектов = 39\u001b[1;37;0m\n",
      "   --> Правая ветка:\n",
      "\u001b[1;36;48m       ЛИСТ: прогноз = 1, объектов = 12\u001b[1;37;0m\n",
      "--> Правая ветка:\n",
      "\u001b[1;31;48m    УЗЕЛ: индекс = 0, порог = 0.65\u001b[1;37;0m\n",
      "   --> Левая ветка:\n",
      "\u001b[1;31;48m       УЗЕЛ: индекс = 1, порог = 0.68\u001b[1;37;0m\n",
      "      --> Левая ветка:\n",
      "\u001b[1;31;48m          УЗЕЛ: индекс = 0, порог = 0.35\u001b[1;37;0m\n",
      "         --> Левая ветка:\n",
      "\u001b[1;36;48m             ЛИСТ: прогноз = 0, объектов = 17\u001b[1;37;0m\n",
      "         --> Правая ветка:\n",
      "\u001b[1;36;48m             ЛИСТ: прогноз = 0, объектов = 26\u001b[1;37;0m\n",
      "      --> Правая ветка:\n",
      "\u001b[1;31;48m          УЗЕЛ: индекс = 1, порог = 2.19\u001b[1;37;0m\n",
      "         --> Левая ветка:\n",
      "\u001b[1;36;48m             ЛИСТ: прогноз = 1, объектов = 85\u001b[1;37;0m\n",
      "         --> Правая ветка:\n",
      "\u001b[1;36;48m             ЛИСТ: прогноз = 1, объектов = 35\u001b[1;37;0m\n",
      "   --> Правая ветка:\n",
      "\u001b[1;31;48m       УЗЕЛ: индекс = 0, порог = 0.89\u001b[1;37;0m\n",
      "      --> Левая ветка:\n",
      "\u001b[1;31;48m          УЗЕЛ: индекс = 1, порог = 0.85\u001b[1;37;0m\n",
      "         --> Левая ветка:\n",
      "\u001b[1;36;48m             ЛИСТ: прогноз = 1, объектов = 15\u001b[1;37;0m\n",
      "         --> Правая ветка:\n",
      "\u001b[1;36;48m             ЛИСТ: прогноз = 1, объектов = 23\u001b[1;37;0m\n",
      "      --> Правая ветка:\n",
      "\u001b[1;36;48m          ЛИСТ: прогноз = 1, объектов = 131\u001b[1;37;0m\n"
     ]
    }
   ],
   "source": [
    "print_tree(model.tree)"
   ]
  },
  {
   "cell_type": "markdown",
   "id": "715de3fd-a08b-4554-91b3-a57a1f39a3a3",
   "metadata": {},
   "source": [
    "#### Задание 2."
   ]
  },
  {
   "cell_type": "code",
   "execution_count": 11,
   "id": "418c302e-2cc7-434c-a358-edb75f20c518",
   "metadata": {},
   "outputs": [],
   "source": [
    "# Введем функцию подсчета точности как доли правильных ответов\n",
    "def accuracy_metric(actual, predicted):\n",
    "    \n",
    "    correct = (predicted == actual).sum()\n",
    "\n",
    "    return correct / len(actual) * 100.0"
   ]
  },
  {
   "cell_type": "markdown",
   "id": "3d114d68-8b37-4b17-ae2f-630d36a01a70",
   "metadata": {},
   "source": [
    "Обучим модель с теми же параметрами, но используя энтропию Шеннона вместо критерия Джини:"
   ]
  },
  {
   "cell_type": "code",
   "execution_count": 12,
   "id": "9b90fb93-efac-4fe1-8004-ac3ad0912aeb",
   "metadata": {},
   "outputs": [],
   "source": [
    "model_entropy = DecisionTree(train_data, train_labels, criterion='entropy', min_leaf=10, max_depth=4)"
   ]
  },
  {
   "cell_type": "code",
   "execution_count": 13,
   "id": "a61b606e-428b-4fc3-985e-09a67ab021d4",
   "metadata": {},
   "outputs": [],
   "source": [
    "train_answers_entropy = model_entropy.predict(train_data)"
   ]
  },
  {
   "cell_type": "code",
   "execution_count": 14,
   "id": "bafc4ddd-4805-4483-b6fa-058406be40d4",
   "metadata": {},
   "outputs": [],
   "source": [
    "answers_entropy = model_entropy.predict(test_data)"
   ]
  },
  {
   "cell_type": "markdown",
   "id": "b7a3818c-9603-4718-bac2-73262df1f581",
   "metadata": {},
   "source": [
    "Сравним метрики accuracy обоих алгоритмов на обучающей и тестовой выборках:"
   ]
  },
  {
   "cell_type": "code",
   "execution_count": 15,
   "id": "09d4f3a7-41af-4ed3-94fe-06377f726ba2",
   "metadata": {},
   "outputs": [
    {
     "name": "stdout",
     "output_type": "stream",
     "text": [
      "Метрики модели с критерием Джини:\n",
      "Train: 91.14\tTest: 88.00\n",
      "\n",
      "Метрики модели с энтропийным критерием:\n",
      "Train: 90.71\tTest: 87.67\n"
     ]
    }
   ],
   "source": [
    "print(f'Метрики модели с критерием Джини:\\n'\n",
    "      f'Train: {accuracy_metric(train_labels, train_answers):.2f}\\tTest: {accuracy_metric(test_labels, answers):.2f}\\n')\n",
    "print(f'Метрики модели с энтропийным критерием:\\n'\n",
    "      f'Train: {accuracy_metric(train_labels, train_answers_entropy):.2f}\\tTest: {accuracy_metric(test_labels, answers_entropy):.2f}')"
   ]
  },
  {
   "cell_type": "markdown",
   "id": "42771ead-985a-4f67-a8d2-0d5eaa989b74",
   "metadata": {},
   "source": [
    "Модель с критерием информативности Джини показала более высокую метрику при тех же параметрах."
   ]
  },
  {
   "cell_type": "markdown",
   "id": "0997fa5f-5c75-4545-8b6b-5b6f0f05d47d",
   "metadata": {},
   "source": [
    "#### Задание 3."
   ]
  },
  {
   "cell_type": "markdown",
   "id": "868ff595-4eda-4da6-9d80-d8352efd4b03",
   "metadata": {},
   "source": [
    "Дан датасет:"
   ]
  },
  {
   "cell_type": "code",
   "execution_count": 16,
   "id": "9c993aa1-276c-4149-a57d-194c2a35cce4",
   "metadata": {},
   "outputs": [
    {
     "data": {
      "image/png": "[encoded data removed]",
      "text/plain": [
       "<Figure size 432x432 with 1 Axes>"
      ]
     },
     "metadata": {
      "needs_background": "light"
     },
     "output_type": "display_data"
    }
   ],
   "source": [
    "regression_data, regression_labels = datasets.make_regression(n_samples=100, \n",
    "                                                      n_features=1, bias=5, noise=10,\n",
    "                                                      random_state=42)\n",
    "plt.figure(figsize=(6,6))\n",
    "plt.scatter(regression_data, regression_labels, c='darkorange', edgecolor='black', s=70)\n",
    "\n",
    "plt.show()"
   ]
  },
  {
   "cell_type": "markdown",
   "id": "702fcc8b-f5f0-4653-b17b-4f962a1b0b07",
   "metadata": {},
   "source": [
    "Разобъём на обучающую и тестовую выборки:"
   ]
  },
  {
   "cell_type": "code",
   "execution_count": 17,
   "id": "f5999137-c522-41f6-afff-1baba930e981",
   "metadata": {},
   "outputs": [],
   "source": [
    "train_data_reg, test_data_reg, train_labels_reg, test_labels_reg = model_selection.train_test_split(regression_data, \n",
    "                                                                                                    regression_labels, \n",
    "                                                                                                    test_size = 0.3,\n",
    "                                                                                                    random_state = 1)"
   ]
  },
  {
   "cell_type": "markdown",
   "id": "f5779152-d98c-4321-afe3-2ec14019ff25",
   "metadata": {},
   "source": [
    "Обучим модель и изобразим дерево решений:"
   ]
  },
  {
   "cell_type": "code",
   "execution_count": 18,
   "id": "4f1cf5c5-aae5-41f8-8685-645639e2194d",
   "metadata": {},
   "outputs": [],
   "source": [
    "model_regression = DecisionTree(train_data_reg, train_labels_reg, criterion='regression', min_leaf=3, max_depth=4)"
   ]
  },
  {
   "cell_type": "code",
   "execution_count": 19,
   "id": "64a37f9c-06ca-4475-aa0b-e14cd3ff038b",
   "metadata": {},
   "outputs": [
    {
     "name": "stdout",
     "output_type": "stream",
     "text": [
      "\u001b[1;31;48m УЗЕЛ: индекс = 0, порог = 0.09\u001b[1;37;0m\n",
      "--> Левая ветка:\n",
      "\u001b[1;31;48m    УЗЕЛ: индекс = 0, порог = -1.15\u001b[1;37;0m\n",
      "   --> Левая ветка:\n",
      "\u001b[1;31;48m       УЗЕЛ: индекс = 0, порог = -1.72\u001b[1;37;0m\n",
      "      --> Левая ветка:\n",
      "\u001b[1;36;48m          ЛИСТ: прогноз = -78.39843636417893, объектов = 4\u001b[1;37;0m\n",
      "      --> Правая ветка:\n",
      "\u001b[1;31;48m          УЗЕЛ: индекс = 0, порог = -1.41\u001b[1;37;0m\n",
      "         --> Левая ветка:\n",
      "\u001b[1;36;48m             ЛИСТ: прогноз = -61.06062387770854, объектов = 4\u001b[1;37;0m\n",
      "         --> Правая ветка:\n",
      "\u001b[1;36;48m             ЛИСТ: прогноз = -50.703542068242065, объектов = 3\u001b[1;37;0m\n",
      "   --> Правая ветка:\n",
      "\u001b[1;31;48m       УЗЕЛ: индекс = 0, порог = -0.46\u001b[1;37;0m\n",
      "      --> Левая ветка:\n",
      "\u001b[1;31;48m          УЗЕЛ: индекс = 0, порог = -0.6\u001b[1;37;0m\n",
      "         --> Левая ветка:\n",
      "\u001b[1;36;48m             ЛИСТ: прогноз = -31.059947905776482, объектов = 8\u001b[1;37;0m\n",
      "         --> Правая ветка:\n",
      "\u001b[1;36;48m             ЛИСТ: прогноз = -17.82218541713025, объектов = 8\u001b[1;37;0m\n",
      "      --> Правая ветка:\n",
      "\u001b[1;31;48m          УЗЕЛ: индекс = 0, порог = -0.23\u001b[1;37;0m\n",
      "         --> Левая ветка:\n",
      "\u001b[1;36;48m             ЛИСТ: прогноз = -2.073890167233853, объектов = 6\u001b[1;37;0m\n",
      "         --> Правая ветка:\n",
      "\u001b[1;36;48m             ЛИСТ: прогноз = 2.8772350966915217, объектов = 7\u001b[1;37;0m\n",
      "--> Правая ветка:\n",
      "\u001b[1;31;48m    УЗЕЛ: индекс = 0, порог = 1.03\u001b[1;37;0m\n",
      "   --> Левая ветка:\n",
      "\u001b[1;31;48m       УЗЕЛ: индекс = 0, порог = 0.61\u001b[1;37;0m\n",
      "      --> Левая ветка:\n",
      "\u001b[1;31;48m          УЗЕЛ: индекс = 0, порог = 0.31\u001b[1;37;0m\n",
      "         --> Левая ветка:\n",
      "\u001b[1;36;48m             ЛИСТ: прогноз = 14.177472417443052, объектов = 5\u001b[1;37;0m\n",
      "         --> Правая ветка:\n",
      "\u001b[1;36;48m             ЛИСТ: прогноз = 24.13999224264635, объектов = 9\u001b[1;37;0m\n",
      "      --> Правая ветка:\n",
      "\u001b[1;31;48m          УЗЕЛ: индекс = 0, порог = 0.92\u001b[1;37;0m\n",
      "         --> Левая ветка:\n",
      "\u001b[1;36;48m             ЛИСТ: прогноз = 40.1853236431432, объектов = 4\u001b[1;37;0m\n",
      "         --> Правая ветка:\n",
      "\u001b[1;36;48m             ЛИСТ: прогноз = 46.162299793489126, объектов = 4\u001b[1;37;0m\n",
      "   --> Правая ветка:\n",
      "\u001b[1;31;48m       УЗЕЛ: индекс = 0, порог = 1.48\u001b[1;37;0m\n",
      "      --> Левая ветка:\n",
      "\u001b[1;36;48m          ЛИСТ: прогноз = 79.49038493250053, объектов = 3\u001b[1;37;0m\n",
      "      --> Правая ветка:\n",
      "\u001b[1;36;48m          ЛИСТ: прогноз = 74.61669237493227, объектов = 5\u001b[1;37;0m\n"
     ]
    }
   ],
   "source": [
    "print_tree(model_regression.tree)"
   ]
  },
  {
   "cell_type": "code",
   "execution_count": 20,
   "id": "3a854d55-d8bc-41bd-9ed0-07076a942a07",
   "metadata": {},
   "outputs": [],
   "source": [
    "train_answers_reg = model_regression.predict(train_data_reg)"
   ]
  },
  {
   "cell_type": "code",
   "execution_count": 21,
   "id": "f47b4a85-0171-48d5-9fb6-88c6fa3a68aa",
   "metadata": {},
   "outputs": [],
   "source": [
    "answers_reg = model_regression.predict(test_data_reg)"
   ]
  },
  {
   "cell_type": "markdown",
   "id": "d54d97c7-f8c1-4176-be88-01037b0545f1",
   "metadata": {},
   "source": [
    "Напишем функцию метрики для регрессии:"
   ]
  },
  {
   "cell_type": "code",
   "execution_count": 22,
   "id": "9c047e97-2e14-4497-8155-5df2324af7ee",
   "metadata": {},
   "outputs": [],
   "source": [
    "def calc_r2(y_pred, y):\n",
    "    return 1 - ((y_pred - y)**2).sum() / ((y - y.mean())**2).sum()"
   ]
  },
  {
   "cell_type": "markdown",
   "id": "c6559860-14f3-43ec-8300-d11d10b6aea3",
   "metadata": {},
   "source": [
    "Посчитаем метрики на обучающей и тестовой выборках:"
   ]
  },
  {
   "cell_type": "code",
   "execution_count": 23,
   "id": "b9c1edd4-64ce-4a49-8e0c-2888102a0e62",
   "metadata": {},
   "outputs": [
    {
     "name": "stdout",
     "output_type": "stream",
     "text": [
      "Метрики R2 модели регрессии:\n",
      "Train: 0.97\tTest: 0.89\n"
     ]
    }
   ],
   "source": [
    "print(f'Метрики R2 модели регрессии:\\n'\n",
    "      f'Train: {calc_r2(train_answers_reg, train_labels_reg):.2f}\\tTest: {calc_r2(answers_reg, test_labels_reg):.2f}')"
   ]
  },
  {
   "cell_type": "markdown",
   "id": "616bac8a-8564-431f-ad58-6df44b8668e5",
   "metadata": {},
   "source": [
    "Изобразим предсказания модели на графике вместе с исходными данными:"
   ]
  },
  {
   "cell_type": "code",
   "execution_count": 24,
   "id": "f5674fa0-9bc3-41b1-a5a3-8ecab67c1155",
   "metadata": {},
   "outputs": [
    {
     "data": {
      "image/png": "[encoded data removed]",
      "text/plain": [
       "<Figure size 432x432 with 1 Axes>"
      ]
     },
     "metadata": {
      "needs_background": "light"
     },
     "output_type": "display_data"
    }
   ],
   "source": [
    "X = sorted(regression_data)\n",
    "Y = model_regression.predict(X)\n",
    "\n",
    "plt.figure(figsize=(6,6))\n",
    "plt.scatter(regression_data, regression_labels, c='darkorange', edgecolor='black', s=70)\n",
    "plt.plot(X, Y, lw=3, color='blue')\n",
    "\n",
    "plt.show()"
   ]
  }
 ],
 "metadata": {
  "kernelspec": {
   "display_name": "Python 3 (ipykernel)",
   "language": "python",
   "name": "python3"
  },
  "language_info": {
   "codemirror_mode": {
    "name": "ipython",
    "version": 3
   },
   "file_extension": ".py",
   "mimetype": "text/x-python",
   "name": "python",
   "nbconvert_exporter": "python",
   "pygments_lexer": "ipython3",
   "version": "3.9.7"
  }
 },
 "nbformat": 4,
 "nbformat_minor": 5
}
